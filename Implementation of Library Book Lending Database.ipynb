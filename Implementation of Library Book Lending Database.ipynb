{
  "nbformat": 4,
  "nbformat_minor": 0,
  "metadata": {
    "colab": {
      "provenance": []
    },
    "kernelspec": {
      "name": "python3",
      "display_name": "Python 3"
    },
    "language_info": {
      "name": "python"
    }
  },
  "cells": [
    {
      "cell_type": "code",
      "execution_count": null,
      "metadata": {
        "id": "I2aVVbwLLyVw",
        "colab": {
          "base_uri": "https://localhost:8080/"
        },
        "outputId": "63d15f21-1637-4a43-c5c6-caf27483479c"
      },
      "outputs": [
        {
          "name": "stdout",
          "output_type": "stream",
          "text": [
            "Input Data Mahasiswa\n",
            "NPM: 2106703752\n",
            "Nama Depan: Rifki\n",
            "Nama Tengah: -\n",
            "Nama Belakang: Prakasya\n",
            "Jurusan: Matematika\n",
            "Alamat: Jalan Anggrek\n"
          ]
        }
      ],
      "source": [
        "import sqlite3\n",
        "\n",
        "#buat koneksi ke database (beri nama sesuai keinginan)\n",
        "conn = sqlite3.connect('library.db')\n",
        "\n",
        "#buat kursor\n",
        "c = conn.cursor()\n",
        "\n",
        "#membuat tabel\n",
        "#sintaks \"NOT EXISTS\" ditambahkan agar tidak error ketika dapat di run berulang kali\n",
        "\n",
        "#table mahasiswa\n",
        "c.execute('''CREATE TABLE IF NOT EXISTS Mahasiswa (\n",
        "              NPM INTEGER PRIMARY KEY NOT NULL,\n",
        "              nama_depan TEXT,\n",
        "              nama_tengah TEXT,\n",
        "              nama_belakang TEXT,\n",
        "              jurusan TEXT,\n",
        "              alamat TEXT,\n",
        "              nomor_anggota INTEGER,\n",
        "              FOREIGN KEY(nomor_anggota) REFERENCES Anggota_Perpustakaan(nomor_anggota))''')\n",
        "\n",
        "#tabel mendaftar\n",
        "c.execute('''CREATE TABLE IF NOT EXISTS Mendaftar (\n",
        "              NPM INTEGER NOT NULL,\n",
        "              nama TEXT,\n",
        "              jurusan TEXT,\n",
        "              alamat TEXT,\n",
        "              FOREIGN KEY(NPM) REFERENCES Mahasiswa(NPM))''')\n",
        "\n",
        "#tabel anggota perpustakaan\n",
        "c.execute('''CREATE TABLE IF NOT EXISTS Anggota_Perpustakaan (\n",
        "              nomor_anggota INTEGER PRIMARY KEY AUTOINCREMENT NOT NULL,\n",
        "              nama TEXT,\n",
        "              jurusan TEXT,\n",
        "              masa_berlaku TEXT,\n",
        "              kode_peminjaman INTEGER,\n",
        "              FOREIGN KEY(kode_peminjaman) REFERENCES Meminjam(kode_peminjaman))''')\n",
        "\n",
        "#tabel meminjam\n",
        "c.execute('''CREATE TABLE IF NOT EXISTS Meminjam (\n",
        "              kode_peminjaman INTEGER PRIMARY KEY AUTOINCREMENT NOT NULL,\n",
        "              tanggal_pinjam TEXT,\n",
        "              tanggal_kembali TEXT,\n",
        "              nomor_anggota INTEGER NOT NULL,\n",
        "              nomor_buku INTEGER NOT NULL,\n",
        "              denda INTEGER,\n",
        "              FOREIGN KEY(nomor_anggota) REFERENCES Anggota_Perpustakaan(nomor_anggota),\n",
        "              FOREIGN KEY(nomor_buku) REFERENCES Buku(nomor_buku))''')\n",
        "\n",
        "#tabel buku\n",
        "c.execute('''CREATE TABLE IF NOT EXISTS Buku (\n",
        "              nomor_buku INTEGER PRIMARY KEY AUTOINCREMENT NOT NULL,\n",
        "              judul_buku TEXT,\n",
        "              jenis_buku TEXT,\n",
        "              penerbit TEXT,\n",
        "              tahun_terbit INTEGER,\n",
        "              pengarang TEXT)''')\n",
        "\n",
        "#contoh penginputan data ke dalam tabel\n",
        "print('Input Data Mahasiswa')\n",
        "npm = int(input('NPM: '))\n",
        "nd = str(input('Nama Depan: '))\n",
        "nt = str(input('Nama Tengah: '))\n",
        "nb = str(input('Nama Belakang: '))\n",
        "jur = str(input('Jurusan: '))\n",
        "alt = str(input('Alamat: '))\n",
        "inputmhs = npm, nd, nt, nb, jur, alt\n",
        "c.execute('''INSERT INTO Mahasiswa (NPM, nama_depan, nama_tengah, nama_belakang, jurusan, alamat)\n",
        "              VALUES (?,?,?,?,?,?)''', inputmhs)\n",
        "\n",
        "#simpan perubahan\n",
        "conn.commit()\n",
        "\n",
        "#tutup koneksi database\n",
        "conn.close()"
      ]
    }
  ]
}