{
  "nbformat": 4,
  "nbformat_minor": 0,
  "metadata": {
    "colab": {
      "provenance": []
    },
    "kernelspec": {
      "name": "python3",
      "display_name": "Python 3"
    },
    "language_info": {
      "name": "python"
    }
  },
  "cells": [
    {
      "cell_type": "code",
      "execution_count": null,
      "metadata": {
        "id": "QY9vlDXydKKR"
      },
      "outputs": [],
      "source": [
        "import sqlite3"
      ]
    },
    {
      "cell_type": "markdown",
      "source": [
        "## Membuat database dan tabel"
      ],
      "metadata": {
        "id": "u5mEpZ8gjIBc"
      }
    },
    {
      "cell_type": "code",
      "source": [
        "conn = sqlite3.connect(\"pasar.sqlite3\")"
      ],
      "metadata": {
        "id": "BNLH6JkujFqx"
      },
      "execution_count": null,
      "outputs": []
    },
    {
      "cell_type": "code",
      "source": [
        "cur = conn.cursor()"
      ],
      "metadata": {
        "id": "SeHKTH4Rjjll"
      },
      "execution_count": null,
      "outputs": []
    },
    {
      "cell_type": "code",
      "source": [
        "# Menjalankan perintah SQL\n",
        "cur.execute(\"\"\"CREATE TABLE IF NOT EXISTS tabel_produk (\n",
        "    product_id INTEGER PRIMARY KEY NOT NULL,\n",
        "    nama TEXT,\n",
        "    stok INTEGER,\n",
        "    berat_kg REAL,\n",
        "    harga_ribu_rp REAL\n",
        ")\"\"\")\n",
        "\n",
        "# Menyimpan hasil eksekusi SQL\n",
        "conn.commit()"
      ],
      "metadata": {
        "id": "zaxWVWkhjuQL"
      },
      "execution_count": null,
      "outputs": []
    },
    {
      "cell_type": "code",
      "source": [
        "conn.close()"
      ],
      "metadata": {
        "id": "U-QJluNMjymi"
      },
      "execution_count": null,
      "outputs": []
    },
    {
      "cell_type": "code",
      "source": [
        "conn = sqlite3.connect(\"pasar.sqlite3\")\n",
        "cur = conn.cursor()\n",
        "\n",
        "cur.execute(\"INSERT INTO tabel_produk VALUES  (123, 'Apel', 10, 0.2, 3.5)\")\n",
        "conn.commit()\n",
        "\n",
        "cur.execute(\"INSERT INTO tabel_produk VALUES  (456, 'Jeruk', 15, 0.15, 2.1)\")\n",
        "conn.commit()\n",
        "\n",
        "cur.execute(\"INSERT INTO tabel_produk VALUES  (789, 'Pisang', 40, 0.05, 1.25)\")\n",
        "conn.commit()\n",
        "\n",
        "conn.close()"
      ],
      "metadata": {
        "id": "jXqpN1Hhj4VF"
      },
      "execution_count": null,
      "outputs": []
    },
    {
      "cell_type": "code",
      "source": [
        "conn = sqlite3.connect(\"pasar.sqlite3\")\n",
        "cur = conn.cursor()\n",
        "\n",
        "cur.execute(\"SELECT * FROM tabel_produk\")\n",
        "print(cur.fetchall())\n",
        "\n",
        "conn.close()"
      ],
      "metadata": {
        "colab": {
          "base_uri": "https://localhost:8080/"
        },
        "id": "HUM2_aLik4Rf",
        "outputId": "5a072976-c3aa-40a5-bff8-4bbb472a0d2e"
      },
      "execution_count": null,
      "outputs": [
        {
          "output_type": "stream",
          "name": "stdout",
          "text": [
            "[(123, 'Apel', 10, 0.2, 3.5), (456, 'Jeruk', 15, 0.15, 2.1), (789, 'Pisang', 40, 0.05, 1.25)]\n"
          ]
        }
      ]
    },
    {
      "cell_type": "code",
      "source": [
        "conn = sqlite3.connect(\"pasar.sqlite3\")\n",
        "cur = conn.cursor()\n",
        "\n",
        "cur.execute(\"SELECT * FROM tabel_produk\")\n",
        "semua_baris = cur.fetchall()\n",
        "for baris in semua_baris:\n",
        "    print(baris)\n",
        "\n",
        "conn.close()"
      ],
      "metadata": {
        "colab": {
          "base_uri": "https://localhost:8080/"
        },
        "id": "l5p6bhEqlOrM",
        "outputId": "0e4367bc-7823-45da-9ddd-af887a1227ef"
      },
      "execution_count": null,
      "outputs": [
        {
          "output_type": "stream",
          "name": "stdout",
          "text": [
            "(123, 'Apel', 10, 0.2, 3.5)\n",
            "(456, 'Jeruk', 15, 0.15, 2.1)\n",
            "(789, 'Pisang', 40, 0.05, 1.25)\n"
          ]
        }
      ]
    },
    {
      "cell_type": "code",
      "source": [
        "conn = sqlite3.connect(\"pasar.sqlite3\")\n",
        "cur = conn.cursor()\n",
        "\n",
        "cur.execute(\"SELECT * FROM tabel_produk\")\n",
        "nama_kolom = [x[0] for x in cur.description]\n",
        "print(nama_kolom)\n",
        "\n",
        "conn.close()"
      ],
      "metadata": {
        "colab": {
          "base_uri": "https://localhost:8080/"
        },
        "id": "s1Y-WvC-lYRs",
        "outputId": "fcf88168-923e-499f-944a-576b7e48f683"
      },
      "execution_count": null,
      "outputs": [
        {
          "output_type": "stream",
          "name": "stdout",
          "text": [
            "['product_id', 'nama', 'stok', 'berat_kg', 'harga_ribu_rp']\n"
          ]
        }
      ]
    },
    {
      "cell_type": "code",
      "source": [
        "conn = sqlite3.connect(\"pasar.sqlite3\")\n",
        "cur = conn.cursor()\n",
        "\n",
        "cur.execute(\"SELECT product_id, nama FROM tabel_produk\")\n",
        "print(cur.fetchall())\n",
        "\n",
        "conn.close()"
      ],
      "metadata": {
        "colab": {
          "base_uri": "https://localhost:8080/"
        },
        "id": "PIbUUoDDlu9x",
        "outputId": "fbb6eda0-3c3f-4df6-ad59-1ebc3d9c9dd7"
      },
      "execution_count": null,
      "outputs": [
        {
          "output_type": "stream",
          "name": "stdout",
          "text": [
            "[(123, 'Apel'), (456, 'Jeruk'), (789, 'Pisang')]\n"
          ]
        }
      ]
    },
    {
      "cell_type": "code",
      "source": [
        "conn = sqlite3.connect(\"pasar.sqlite3\")\n",
        "cur = conn.cursor()\n",
        "\n",
        "data_baru = [\n",
        "    (987, 'Brokoli', 70, 0.05, 1.5),\n",
        "    (321, 'Wortel', 30, 0.1, 1.8),\n",
        "    (135, 'Stroberi', 120, 0.04, 2)\n",
        "]\n",
        "\n",
        "cur.executemany(\"INSERT INTO tabel_produk VALUES (?, ?, ?, ?, ?)\", data_baru)\n",
        "conn.commit()\n",
        "\n",
        "conn.close()"
      ],
      "metadata": {
        "id": "f6FDYRydl4PF"
      },
      "execution_count": null,
      "outputs": []
    },
    {
      "cell_type": "code",
      "source": [
        "conn = sqlite3.connect(\"pasar.sqlite3\")\n",
        "cur = conn.cursor()\n",
        "\n",
        "cur.execute(\"SELECT * FROM tabel_produk\")\n",
        "print(cur.fetchall())\n",
        "\n",
        "conn.close()"
      ],
      "metadata": {
        "colab": {
          "base_uri": "https://localhost:8080/"
        },
        "id": "P1zuLnQsmi2W",
        "outputId": "bd7ef0d1-fc55-434e-98c4-1b7c205663ef"
      },
      "execution_count": null,
      "outputs": [
        {
          "output_type": "stream",
          "name": "stdout",
          "text": [
            "[(123, 'Apel', 10, 0.2, 3.5), (135, 'Stroberi', 120, 0.04, 2.0), (321, 'Wortel', 30, 0.1, 1.8), (456, 'Jeruk', 15, 0.15, 2.1), (789, 'Pisang', 40, 0.05, 1.25), (987, 'Brokoli', 70, 0.05, 1.5)]\n"
          ]
        }
      ]
    },
    {
      "cell_type": "markdown",
      "source": [
        "## Querying"
      ],
      "metadata": {
        "id": "zAaEe_Y-mtks"
      }
    },
    {
      "cell_type": "code",
      "source": [
        "conn = sqlite3.connect(\"pasar.sqlite3\")\n",
        "cur = conn.cursor()\n",
        "\n",
        "cur.execute(\"SELECT * FROM tabel_produk WHERE stok < 30\")\n",
        "semua_baris = cur.fetchall()\n",
        "for baris in semua_baris:\n",
        "    print(baris)\n",
        "\n",
        "conn.close()"
      ],
      "metadata": {
        "colab": {
          "base_uri": "https://localhost:8080/"
        },
        "id": "goMG4JlumvMZ",
        "outputId": "a197d91e-b2e2-40e8-9c57-1641cf22ac4d"
      },
      "execution_count": null,
      "outputs": [
        {
          "output_type": "stream",
          "name": "stdout",
          "text": [
            "(123, 'Apel', 10, 0.2, 3.5)\n",
            "(456, 'Jeruk', 15, 0.15, 2.1)\n"
          ]
        }
      ]
    },
    {
      "cell_type": "code",
      "source": [
        "conn = sqlite3.connect(\"pasar.sqlite3\")\n",
        "cur = conn.cursor()\n",
        "\n",
        "cur.execute(\"SELECT * FROM tabel_produk WHERE harga_ribu_rp > 3\")\n",
        "semua_baris = cur.fetchall()\n",
        "for baris in semua_baris:\n",
        "    print(baris)\n",
        "\n",
        "conn.close()"
      ],
      "metadata": {
        "colab": {
          "base_uri": "https://localhost:8080/"
        },
        "id": "RLMV1pzgnKc2",
        "outputId": "da1682cb-7011-4f35-f801-0bd5ef77fbf5"
      },
      "execution_count": null,
      "outputs": [
        {
          "output_type": "stream",
          "name": "stdout",
          "text": [
            "(123, 'Apel', 10, 0.2, 3.5)\n"
          ]
        }
      ]
    },
    {
      "cell_type": "code",
      "source": [
        "conn = sqlite3.connect(\"pasar.sqlite3\")\n",
        "cur = conn.cursor()\n",
        "\n",
        "cur.execute(\"SELECT * FROM tabel_produk WHERE nama == 'Stroberi'\")\n",
        "semua_baris = cur.fetchall()\n",
        "for baris in semua_baris:\n",
        "    print(baris)\n",
        "\n",
        "conn.close()"
      ],
      "metadata": {
        "colab": {
          "base_uri": "https://localhost:8080/"
        },
        "id": "OF_lRxyBnV1v",
        "outputId": "a9e33146-59bc-4d18-f918-3565571a495b"
      },
      "execution_count": null,
      "outputs": [
        {
          "output_type": "stream",
          "name": "stdout",
          "text": [
            "(135, 'Stroberi', 120, 0.04, 2.0)\n"
          ]
        }
      ]
    },
    {
      "cell_type": "code",
      "source": [
        "conn = sqlite3.connect(\"pasar.sqlite3\")\n",
        "cur = conn.cursor()\n",
        "\n",
        "cur.execute(\"SELECT * FROM tabel_produk WHERE product_id == 987\")\n",
        "semua_baris = cur.fetchall()\n",
        "for baris in semua_baris:\n",
        "    print(baris)\n",
        "\n",
        "conn.close()"
      ],
      "metadata": {
        "colab": {
          "base_uri": "https://localhost:8080/"
        },
        "id": "ce2SgETqngvJ",
        "outputId": "fa65ba4d-9268-4167-aefb-99b662db29fa"
      },
      "execution_count": null,
      "outputs": [
        {
          "output_type": "stream",
          "name": "stdout",
          "text": [
            "(987, 'Brokoli', 70, 0.05, 1.5)\n"
          ]
        }
      ]
    },
    {
      "cell_type": "code",
      "source": [
        "conn = sqlite3.connect(\"pasar.sqlite3\")\n",
        "cur = conn.cursor()\n",
        "\n",
        "cur.execute(\"SELECT * FROM tabel_produk WHERE product_id LIKE '45%'\")\n",
        "semua_baris = cur.fetchall()\n",
        "for baris in semua_baris:\n",
        "    print(baris)\n",
        "\n",
        "conn.close()"
      ],
      "metadata": {
        "colab": {
          "base_uri": "https://localhost:8080/"
        },
        "id": "Tjg-k2-fnnMc",
        "outputId": "eda78664-6269-4092-eeb9-10c0c32100f1"
      },
      "execution_count": null,
      "outputs": [
        {
          "output_type": "stream",
          "name": "stdout",
          "text": [
            "(456, 'Jeruk', 15, 0.15, 2.1)\n"
          ]
        }
      ]
    },
    {
      "cell_type": "code",
      "source": [
        "conn = sqlite3.connect(\"pasar.sqlite3\")\n",
        "cur = conn.cursor()\n",
        "\n",
        "cur.execute(\"SELECT * FROM tabel_produk WHERE product_id LIKE '%9'\")\n",
        "semua_baris = cur.fetchall()\n",
        "for baris in semua_baris:\n",
        "    print(baris)\n",
        "\n",
        "conn.close()"
      ],
      "metadata": {
        "colab": {
          "base_uri": "https://localhost:8080/"
        },
        "id": "5YsF36dxnyXr",
        "outputId": "dfb159d0-5eb1-4299-c7ce-fee6221b37f3"
      },
      "execution_count": null,
      "outputs": [
        {
          "output_type": "stream",
          "name": "stdout",
          "text": [
            "(789, 'Pisang', 40, 0.05, 1.25)\n"
          ]
        }
      ]
    },
    {
      "cell_type": "code",
      "source": [
        "conn = sqlite3.connect(\"pasar.sqlite3\")\n",
        "cur = conn.cursor()\n",
        "\n",
        "cur.execute(\"SELECT * FROM tabel_produk WHERE (stok < 50) AND (product_id LIKE '1%')\")\n",
        "semua_baris = cur.fetchall()\n",
        "for baris in semua_baris:\n",
        "    print(baris)\n",
        "\n",
        "conn.close()"
      ],
      "metadata": {
        "colab": {
          "base_uri": "https://localhost:8080/"
        },
        "id": "xrtRYXe6n7Wl",
        "outputId": "69741f28-b2ad-4955-98f9-653c63c7f530"
      },
      "execution_count": null,
      "outputs": [
        {
          "output_type": "stream",
          "name": "stdout",
          "text": [
            "(123, 'Apel', 10, 0.2, 3.5)\n"
          ]
        }
      ]
    },
    {
      "cell_type": "code",
      "source": [
        "conn = sqlite3.connect(\"pasar.sqlite3\")\n",
        "cur = conn.cursor()\n",
        "\n",
        "cur.execute(\"SELECT * FROM tabel_produk WHERE (stok <= 10) OR (harga_ribu_rp > 2)\")\n",
        "semua_baris = cur.fetchall()\n",
        "for baris in semua_baris:\n",
        "    print(baris)\n",
        "\n",
        "conn.close()"
      ],
      "metadata": {
        "colab": {
          "base_uri": "https://localhost:8080/"
        },
        "id": "oBbaGmCDoG4F",
        "outputId": "80d83d5e-a550-4b7f-d297-f6775a501e76"
      },
      "execution_count": null,
      "outputs": [
        {
          "output_type": "stream",
          "name": "stdout",
          "text": [
            "(123, 'Apel', 10, 0.2, 3.5)\n",
            "(456, 'Jeruk', 15, 0.15, 2.1)\n"
          ]
        }
      ]
    },
    {
      "cell_type": "markdown",
      "source": [
        "## Update Data"
      ],
      "metadata": {
        "id": "dDxURdWyoaMc"
      }
    },
    {
      "cell_type": "code",
      "source": [
        "conn = sqlite3.connect(\"pasar.sqlite3\")\n",
        "cur = conn.cursor()\n",
        "\n",
        "cur.execute(\"UPDATE tabel_produk SET stok == 200 WHERE product_id == 123\")\n",
        "conn.commit()\n",
        "\n",
        "conn.close()"
      ],
      "metadata": {
        "id": "FrJ2f-ZJoSSx"
      },
      "execution_count": null,
      "outputs": []
    },
    {
      "cell_type": "code",
      "source": [
        "conn = sqlite3.connect(\"pasar.sqlite3\")\n",
        "cur = conn.cursor()\n",
        "\n",
        "cur.execute(\"SELECT * FROM tabel_produk\")\n",
        "semua_baris = cur.fetchall()\n",
        "for baris in semua_baris:\n",
        "    print(baris)\n",
        "conn.close()"
      ],
      "metadata": {
        "colab": {
          "base_uri": "https://localhost:8080/"
        },
        "id": "2rhyzbQ6ou_u",
        "outputId": "4440b962-88e9-42d4-f1e2-21a77846f2f5"
      },
      "execution_count": null,
      "outputs": [
        {
          "output_type": "stream",
          "name": "stdout",
          "text": [
            "(123, 'Apel', 200, 0.2, 3.5)\n",
            "(135, 'Stroberi', 120, 0.04, 2.0)\n",
            "(321, 'Wortel', 30, 0.1, 1.8)\n",
            "(456, 'Jeruk', 15, 0.15, 2.1)\n",
            "(789, 'Pisang', 40, 0.05, 1.25)\n",
            "(987, 'Brokoli', 70, 0.05, 1.5)\n"
          ]
        }
      ]
    },
    {
      "cell_type": "code",
      "source": [
        "conn = sqlite3.connect(\"pasar.sqlite3\")\n",
        "cur = conn.cursor()\n",
        "\n",
        "cur.execute(\"UPDATE tabel_produk SET nama = 'Jeruk Nipis' WHERE product_id == 456\")\n",
        "conn.commit()\n",
        "\n",
        "conn.close()"
      ],
      "metadata": {
        "id": "q1lgF6iCo5g1"
      },
      "execution_count": null,
      "outputs": []
    },
    {
      "cell_type": "code",
      "source": [
        "conn = sqlite3.connect(\"pasar.sqlite3\")\n",
        "cur = conn.cursor()\n",
        "\n",
        "cur.execute(\"SELECT * FROM tabel_produk\")\n",
        "semua_baris = cur.fetchall()\n",
        "for baris in semua_baris:\n",
        "    print(baris)\n",
        "conn.close()"
      ],
      "metadata": {
        "colab": {
          "base_uri": "https://localhost:8080/"
        },
        "id": "BFcWRItppN7C",
        "outputId": "64f8e158-1546-4b4f-b236-eca98b8efbcf"
      },
      "execution_count": null,
      "outputs": [
        {
          "output_type": "stream",
          "name": "stdout",
          "text": [
            "(123, 'Apel', 200, 0.2, 3.5)\n",
            "(135, 'Stroberi', 120, 0.04, 2.0)\n",
            "(321, 'Wortel', 30, 0.1, 1.8)\n",
            "(456, 'Jeruk Nipis', 15, 0.15, 2.1)\n",
            "(789, 'Pisang', 40, 0.05, 1.25)\n",
            "(987, 'Brokoli', 70, 0.05, 1.5)\n"
          ]
        }
      ]
    },
    {
      "cell_type": "markdown",
      "source": [
        "## Hapus Baris"
      ],
      "metadata": {
        "id": "GUIusZsLpctK"
      }
    },
    {
      "cell_type": "code",
      "source": [
        "conn = sqlite3.connect(\"pasar.sqlite3\")\n",
        "cur = conn.cursor()\n",
        "\n",
        "cur.execute(\"DELETE FROM tabel_produk WHERE product_id == 789\")\n",
        "conn.commit()\n",
        "\n",
        "conn.close()"
      ],
      "metadata": {
        "id": "ndxDXK7dpOR4"
      },
      "execution_count": null,
      "outputs": []
    },
    {
      "cell_type": "code",
      "source": [
        "conn = sqlite3.connect(\"pasar.sqlite3\")\n",
        "cur = conn.cursor()\n",
        "\n",
        "cur.execute(\"SELECT * FROM tabel_produk\")\n",
        "semua_baris = cur.fetchall()\n",
        "for baris in semua_baris:\n",
        "    print(baris)\n",
        "conn.close()"
      ],
      "metadata": {
        "colab": {
          "base_uri": "https://localhost:8080/"
        },
        "id": "cIqdni8vptGO",
        "outputId": "db4c2abb-e347-4105-c5f4-3b2fc23c7878"
      },
      "execution_count": null,
      "outputs": [
        {
          "output_type": "stream",
          "name": "stdout",
          "text": [
            "(123, 'Apel', 200, 0.2, 3.5)\n",
            "(135, 'Stroberi', 120, 0.04, 2.0)\n",
            "(321, 'Wortel', 30, 0.1, 1.8)\n",
            "(456, 'Jeruk Nipis', 15, 0.15, 2.1)\n",
            "(987, 'Brokoli', 70, 0.05, 1.5)\n"
          ]
        }
      ]
    },
    {
      "cell_type": "markdown",
      "source": [
        "ORDER BY dan LIMIT"
      ],
      "metadata": {
        "id": "n54WCYe4pxc1"
      }
    },
    {
      "cell_type": "code",
      "source": [
        "conn = sqlite3.connect(\"pasar.sqlite3\")\n",
        "cur = conn.cursor()\n",
        "\n",
        "cur.execute(\"SELECT * FROM tabel_produk ORDER BY nama\")\n",
        "semua_baris = cur.fetchall()\n",
        "for baris in semua_baris:\n",
        "    print(baris)\n",
        "\n",
        "conn.close()"
      ],
      "metadata": {
        "colab": {
          "base_uri": "https://localhost:8080/"
        },
        "id": "fW3jW4atptZn",
        "outputId": "3a97c79b-f749-4e72-c2b7-8e050d9b8683"
      },
      "execution_count": null,
      "outputs": [
        {
          "output_type": "stream",
          "name": "stdout",
          "text": [
            "(123, 'Apel', 200, 0.2, 3.5)\n",
            "(987, 'Brokoli', 70, 0.05, 1.5)\n",
            "(456, 'Jeruk Nipis', 15, 0.15, 2.1)\n",
            "(135, 'Stroberi', 120, 0.04, 2.0)\n",
            "(321, 'Wortel', 30, 0.1, 1.8)\n"
          ]
        }
      ]
    },
    {
      "cell_type": "code",
      "source": [
        "conn = sqlite3.connect(\"pasar.sqlite3\")\n",
        "cur = conn.cursor()\n",
        "\n",
        "cur.execute(\"SELECT * FROM tabel_produk ORDER BY nama DESC\")\n",
        "semua_baris = cur.fetchall()\n",
        "for baris in semua_baris:\n",
        "    print(baris)\n",
        "\n",
        "conn.close()"
      ],
      "metadata": {
        "colab": {
          "base_uri": "https://localhost:8080/"
        },
        "id": "GiJx2x7fp_ot",
        "outputId": "5dd81247-c5a4-4d7f-f9de-bdc4ac4f8bf6"
      },
      "execution_count": null,
      "outputs": [
        {
          "output_type": "stream",
          "name": "stdout",
          "text": [
            "(321, 'Wortel', 30, 0.1, 1.8)\n",
            "(135, 'Stroberi', 120, 0.04, 2.0)\n",
            "(456, 'Jeruk Nipis', 15, 0.15, 2.1)\n",
            "(987, 'Brokoli', 70, 0.05, 1.5)\n",
            "(123, 'Apel', 200, 0.2, 3.5)\n"
          ]
        }
      ]
    },
    {
      "cell_type": "code",
      "source": [
        "conn = sqlite3.connect(\"pasar.sqlite3\")\n",
        "cur = conn.cursor()\n",
        "\n",
        "cur.execute(\"SELECT * FROM tabel_produk ORDER BY nama ASC\")\n",
        "semua_baris = cur.fetchall()\n",
        "for baris in semua_baris:\n",
        "    print(baris)\n",
        "\n",
        "conn.close()"
      ],
      "metadata": {
        "colab": {
          "base_uri": "https://localhost:8080/"
        },
        "id": "YA6cOuFqqHF3",
        "outputId": "bf1696a0-4235-4afc-de26-bc9848a73881"
      },
      "execution_count": null,
      "outputs": [
        {
          "output_type": "stream",
          "name": "stdout",
          "text": [
            "(123, 'Apel', 200, 0.2, 3.5)\n",
            "(987, 'Brokoli', 70, 0.05, 1.5)\n",
            "(456, 'Jeruk Nipis', 15, 0.15, 2.1)\n",
            "(135, 'Stroberi', 120, 0.04, 2.0)\n",
            "(321, 'Wortel', 30, 0.1, 1.8)\n"
          ]
        }
      ]
    },
    {
      "cell_type": "code",
      "source": [
        "conn = sqlite3.connect(\"pasar.sqlite3\")\n",
        "cur = conn.cursor()\n",
        "\n",
        "cur.execute(\"SELECT * FROM tabel_produk ORDER BY berat_kg\")\n",
        "semua_baris = cur.fetchall()\n",
        "for baris in semua_baris:\n",
        "    print(baris)\n",
        "\n",
        "conn.close()"
      ],
      "metadata": {
        "colab": {
          "base_uri": "https://localhost:8080/"
        },
        "id": "8k0q8WGAqP-7",
        "outputId": "c222d263-bc83-4907-fae6-da07c12d6cfd"
      },
      "execution_count": null,
      "outputs": [
        {
          "output_type": "stream",
          "name": "stdout",
          "text": [
            "(135, 'Stroberi', 120, 0.04, 2.0)\n",
            "(987, 'Brokoli', 70, 0.05, 1.5)\n",
            "(321, 'Wortel', 30, 0.1, 1.8)\n",
            "(456, 'Jeruk Nipis', 15, 0.15, 2.1)\n",
            "(123, 'Apel', 200, 0.2, 3.5)\n"
          ]
        }
      ]
    },
    {
      "cell_type": "code",
      "source": [
        "conn = sqlite3.connect(\"pasar.sqlite3\")\n",
        "cur = conn.cursor()\n",
        "\n",
        "cur.execute(\"SELECT * FROM tabel_produk ORDER BY harga_ribu_rp\")\n",
        "semua_baris = cur.fetchall()\n",
        "for baris in semua_baris:\n",
        "    print(baris)\n",
        "\n",
        "conn.close()"
      ],
      "metadata": {
        "colab": {
          "base_uri": "https://localhost:8080/"
        },
        "id": "LUObgAzxqaGl",
        "outputId": "3cacbc1f-a67c-4238-9bff-a55bf676e0cb"
      },
      "execution_count": null,
      "outputs": [
        {
          "output_type": "stream",
          "name": "stdout",
          "text": [
            "(987, 'Brokoli', 70, 0.05, 1.5)\n",
            "(321, 'Wortel', 30, 0.1, 1.8)\n",
            "(135, 'Stroberi', 120, 0.04, 2.0)\n",
            "(456, 'Jeruk Nipis', 15, 0.15, 2.1)\n",
            "(123, 'Apel', 200, 0.2, 3.5)\n"
          ]
        }
      ]
    },
    {
      "cell_type": "code",
      "source": [
        "conn = sqlite3.connect(\"pasar.sqlite3\")\n",
        "cur = conn.cursor()\n",
        "\n",
        "cur.execute(\"SELECT * FROM tabel_produk ORDER BY harga_ribu_rp DESC\")\n",
        "semua_baris = cur.fetchall()\n",
        "for baris in semua_baris:\n",
        "    print(baris)\n",
        "\n",
        "conn.close()"
      ],
      "metadata": {
        "colab": {
          "base_uri": "https://localhost:8080/"
        },
        "id": "RfH9aXBBqcWS",
        "outputId": "97553a60-fc7b-4c00-e0b0-995b822b1973"
      },
      "execution_count": null,
      "outputs": [
        {
          "output_type": "stream",
          "name": "stdout",
          "text": [
            "(123, 'Apel', 200, 0.2, 3.5)\n",
            "(456, 'Jeruk Nipis', 15, 0.15, 2.1)\n",
            "(135, 'Stroberi', 120, 0.04, 2.0)\n",
            "(321, 'Wortel', 30, 0.1, 1.8)\n",
            "(987, 'Brokoli', 70, 0.05, 1.5)\n"
          ]
        }
      ]
    },
    {
      "cell_type": "code",
      "source": [
        "conn = sqlite3.connect(\"pasar.sqlite3\")\n",
        "cur = conn.cursor()\n",
        "\n",
        "cur.execute(\"SELECT * FROM tabel_produk ORDER BY harga_ribu_rp LIMIT 3\")\n",
        "semua_baris = cur.fetchall()\n",
        "for baris in semua_baris:\n",
        "    print(baris)\n",
        "\n",
        "conn.close()"
      ],
      "metadata": {
        "colab": {
          "base_uri": "https://localhost:8080/"
        },
        "id": "4VmNchf1qv_D",
        "outputId": "4e5a6de3-4110-41f6-c187-a851fb466702"
      },
      "execution_count": null,
      "outputs": [
        {
          "output_type": "stream",
          "name": "stdout",
          "text": [
            "(987, 'Brokoli', 70, 0.05, 1.5)\n",
            "(321, 'Wortel', 30, 0.1, 1.8)\n",
            "(135, 'Stroberi', 120, 0.04, 2.0)\n"
          ]
        }
      ]
    },
    {
      "cell_type": "code",
      "source": [
        "conn = sqlite3.connect(\"pasar.sqlite3\")\n",
        "cur = conn.cursor()\n",
        "\n",
        "cur.execute(\"SELECT * FROM tabel_produk ORDER BY product_id LIMIT 2\")\n",
        "semua_baris = cur.fetchall()\n",
        "for baris in semua_baris:\n",
        "    print(baris)\n",
        "\n",
        "conn.close()"
      ],
      "metadata": {
        "colab": {
          "base_uri": "https://localhost:8080/"
        },
        "id": "hCYTL9zJq_Z0",
        "outputId": "3ce6d9a2-14e2-4c6a-fecf-241ff79b0395"
      },
      "execution_count": null,
      "outputs": [
        {
          "output_type": "stream",
          "name": "stdout",
          "text": [
            "(123, 'Apel', 200, 0.2, 3.5)\n",
            "(135, 'Stroberi', 120, 0.04, 2.0)\n"
          ]
        }
      ]
    },
    {
      "cell_type": "code",
      "source": [
        "conn = sqlite3.connect(\"pasar.sqlite3\")\n",
        "cur = conn.cursor()\n",
        "\n",
        "cur.execute(\"SELECT * FROM tabel_produk LIMIT 3\")\n",
        "semua_baris = cur.fetchall()\n",
        "for baris in semua_baris:\n",
        "    print(baris)\n",
        "\n",
        "conn.close()"
      ],
      "metadata": {
        "colab": {
          "base_uri": "https://localhost:8080/"
        },
        "id": "ipHPVu8IrEHj",
        "outputId": "68bcf46a-93a9-4068-cca5-4418ae00e9ca"
      },
      "execution_count": null,
      "outputs": [
        {
          "output_type": "stream",
          "name": "stdout",
          "text": [
            "(123, 'Apel', 200, 0.2, 3.5)\n",
            "(135, 'Stroberi', 120, 0.04, 2.0)\n",
            "(321, 'Wortel', 30, 0.1, 1.8)\n"
          ]
        }
      ]
    },
    {
      "cell_type": "code",
      "source": [
        "conn = sqlite3.connect(\"pasar.sqlite3\")\n",
        "cur = conn.cursor()\n",
        "\n",
        "cur.execute(\"SELECT * FROM tabel_produk ORDER BY product_id\")\n",
        "semua_baris = cur.fetchall()\n",
        "for baris in semua_baris:\n",
        "    print(baris)\n",
        "\n",
        "conn.close()"
      ],
      "metadata": {
        "colab": {
          "base_uri": "https://localhost:8080/"
        },
        "id": "SZsBmRarrWvU",
        "outputId": "64310ee7-d7ca-40b8-ef06-06e194ffe70e"
      },
      "execution_count": null,
      "outputs": [
        {
          "output_type": "stream",
          "name": "stdout",
          "text": [
            "(123, 'Apel', 200, 0.2, 3.5)\n",
            "(135, 'Stroberi', 120, 0.04, 2.0)\n",
            "(321, 'Wortel', 30, 0.1, 1.8)\n",
            "(456, 'Jeruk Nipis', 15, 0.15, 2.1)\n",
            "(987, 'Brokoli', 70, 0.05, 1.5)\n"
          ]
        }
      ]
    },
    {
      "cell_type": "markdown",
      "source": [
        "## Tabel baru di database yang sama"
      ],
      "metadata": {
        "id": "mn4oLNFRrq0z"
      }
    },
    {
      "cell_type": "code",
      "source": [
        "conn = sqlite3.connect(\"pasar.sqlite3\")\n",
        "cur = conn.cursor()\n",
        "\n",
        "cur.execute(\"\"\"CREATE TABLE IF NOT EXISTS tabel_pesanan (\n",
        "    order_id INTEGER PRIMARY KEY NOT NULL,\n",
        "    tanggal TEXT,\n",
        "    jam TEXT,\n",
        "    kode_produk INTEGER,\n",
        "    jumlah INTEGER,\n",
        "    sudah_dibayar INTEGER,\n",
        "    FOREIGN KEY(kode_produk) REFERENCES tabel_produk(product_id)\n",
        ")\n",
        "\"\"\")\n",
        "conn.commit()\n",
        "\n",
        "conn.close()"
      ],
      "metadata": {
        "id": "p4SOFodRrd0I"
      },
      "execution_count": null,
      "outputs": []
    },
    {
      "cell_type": "code",
      "source": [
        "conn = sqlite3.connect(\"pasar.sqlite3\")\n",
        "cur = conn.cursor()\n",
        "\n",
        "data_baru = [\n",
        "    (1, '2023-11-05', '14:38.27', 123, 10, 0),\n",
        "    (2, '2023-11-16', '10:02:03', 456, 5, 0),\n",
        "    (3, '2023-11-17', '23:59:58', 987, 15, 0),\n",
        "]\n",
        "cur.executemany(\"INSERT INTO tabel_pesanan VALUES (?, ?, ?, ?, ?, ?)\", data_baru)\n",
        "conn.commit()\n",
        "\n",
        "conn.close()"
      ],
      "metadata": {
        "id": "NI0PtIJpsElH"
      },
      "execution_count": null,
      "outputs": []
    },
    {
      "cell_type": "code",
      "source": [
        "conn = sqlite3.connect(\"pasar.sqlite3\")\n",
        "cur = conn.cursor()\n",
        "\n",
        "cur.execute(\"SELECT * FROM tabel_pesanan\")\n",
        "semua_baris = cur.fetchall()\n",
        "for baris in semua_baris:\n",
        "    print(baris)\n",
        "\n",
        "conn.close()"
      ],
      "metadata": {
        "colab": {
          "base_uri": "https://localhost:8080/"
        },
        "id": "InNMxXqgs4S5",
        "outputId": "e5bb5628-cec7-498e-c8fa-1f87a227ad3b"
      },
      "execution_count": null,
      "outputs": [
        {
          "output_type": "stream",
          "name": "stdout",
          "text": [
            "(1, '2023-11-05', '14:38.27', 123, 10, 0)\n",
            "(2, '2023-11-16', '10:02:03', 456, 5, 0)\n",
            "(3, '2023-11-17', '23:59:58', 987, 15, 0)\n"
          ]
        }
      ]
    },
    {
      "cell_type": "code",
      "source": [
        "conn = sqlite3.connect(\"pasar.sqlite3\")\n",
        "cur = conn.cursor()\n",
        "\n",
        "data_baru = [\n",
        "    ('2023-11-16', '00:09:32', 456, 20, 0),\n",
        "    ('2023-11-15', '12:29:17', 135, 5, 0),\n",
        "    ('2023-11-17', '15:42:19', 321, 10, 0)\n",
        "]\n",
        "\n",
        "cur.executemany(\"\"\"INSERT INTO tabel_pesanan\n",
        "                (tanggal, jam, kode_produk, jumlah, sudah_dibayar)\n",
        "                VALUES (?,?,?,?,?)\"\"\", data_baru)\n",
        "conn.commit()\n",
        "\n",
        "conn.close()"
      ],
      "metadata": {
        "id": "XiIWXWr3tF_m"
      },
      "execution_count": null,
      "outputs": []
    },
    {
      "cell_type": "code",
      "source": [
        "conn = sqlite3.connect(\"pasar.sqlite3\")\n",
        "cur = conn.cursor()\n",
        "\n",
        "cur.execute(\"SELECT * FROM tabel_pesanan\")\n",
        "semua_baris = cur.fetchall()\n",
        "for baris in semua_baris:\n",
        "    print(baris)\n",
        "\n",
        "conn.close()"
      ],
      "metadata": {
        "colab": {
          "base_uri": "https://localhost:8080/"
        },
        "id": "D5rbuamNtd4r",
        "outputId": "6bffc8bd-521e-4c66-b959-3d21d69629f8"
      },
      "execution_count": null,
      "outputs": [
        {
          "output_type": "stream",
          "name": "stdout",
          "text": [
            "(1, '2023-11-05', '14:38.27', 123, 10, 0)\n",
            "(2, '2023-11-16', '10:02:03', 456, 5, 0)\n",
            "(3, '2023-11-17', '23:59:58', 987, 15, 0)\n",
            "(4, '2023-11-16', '00:09:32', 456, 20, 0)\n",
            "(5, '2023-11-15', '12:29:17', 135, 5, 0)\n",
            "(6, '2023-11-17', '15:42:19', 321, 10, 0)\n"
          ]
        }
      ]
    },
    {
      "cell_type": "code",
      "source": [
        "conn = sqlite3.connect(\"pasar.sqlite3\")\n",
        "cur = conn.cursor()\n",
        "\n",
        "cur.execute(\"SELECT * FROM tabel_pesanan ORDER BY tanggal, jam\")\n",
        "semua_baris = cur.fetchall()\n",
        "for baris in semua_baris:\n",
        "    print(baris)\n",
        "\n",
        "conn.close()"
      ],
      "metadata": {
        "colab": {
          "base_uri": "https://localhost:8080/"
        },
        "id": "9_6hcVtNtgNa",
        "outputId": "d10de783-3fc6-4650-b8d7-5b9b8dea578f"
      },
      "execution_count": null,
      "outputs": [
        {
          "output_type": "stream",
          "name": "stdout",
          "text": [
            "(1, '2023-11-05', '14:38.27', 123, 10, 0)\n",
            "(5, '2023-11-15', '12:29:17', 135, 5, 0)\n",
            "(4, '2023-11-16', '00:09:32', 456, 20, 0)\n",
            "(2, '2023-11-16', '10:02:03', 456, 5, 0)\n",
            "(6, '2023-11-17', '15:42:19', 321, 10, 0)\n",
            "(3, '2023-11-17', '23:59:58', 987, 15, 0)\n"
          ]
        }
      ]
    },
    {
      "cell_type": "code",
      "source": [
        "conn = sqlite3.connect(\"pasar.sqlite3\")\n",
        "cur = conn.cursor()\n",
        "\n",
        "cur.execute(\"SELECT * FROM tabel_pesanan WHERE jam > '12:00:00'\")\n",
        "semua_baris = cur.fetchall()\n",
        "for baris in semua_baris:\n",
        "    print(baris)\n",
        "\n",
        "conn.close()"
      ],
      "metadata": {
        "colab": {
          "base_uri": "https://localhost:8080/"
        },
        "id": "7Kl4ZAnmt1c7",
        "outputId": "1743eaee-8e32-41d3-dd35-dccf7d75359f"
      },
      "execution_count": null,
      "outputs": [
        {
          "output_type": "stream",
          "name": "stdout",
          "text": [
            "(1, '2023-11-05', '14:38.27', 123, 10, 0)\n",
            "(3, '2023-11-17', '23:59:58', 987, 15, 0)\n",
            "(5, '2023-11-15', '12:29:17', 135, 5, 0)\n",
            "(6, '2023-11-17', '15:42:19', 321, 10, 0)\n"
          ]
        }
      ]
    },
    {
      "cell_type": "markdown",
      "source": [
        "## Querying dan inner join melalui foreign key"
      ],
      "metadata": {
        "id": "aqruEHq7uJNg"
      }
    },
    {
      "cell_type": "code",
      "source": [
        "conn = sqlite3.connect(\"pasar.sqlite3\")\n",
        "cur = conn.cursor()\n",
        "\n",
        "print(\"=== Tabel produk ===\")\n",
        "cur.execute(\"\"\"SELECT * FROM tabel_produk\"\"\")\n",
        "semua_baris = cur.fetchall()\n",
        "for baris in semua_baris:\n",
        "    print(baris)\n",
        "\n",
        "print(\"=== Tabel pesanan ===\")\n",
        "cur.execute(\"\"\"SELECT * FROM tabel_pesanan\"\"\")\n",
        "semua_baris = cur.fetchall()\n",
        "for baris in semua_baris:\n",
        "    print(baris)\n",
        "\n",
        "conn.close()"
      ],
      "metadata": {
        "colab": {
          "base_uri": "https://localhost:8080/"
        },
        "id": "uF5TIDiguHrY",
        "outputId": "dc9fe542-3fae-4557-e79d-a9b333c578b1"
      },
      "execution_count": null,
      "outputs": [
        {
          "output_type": "stream",
          "name": "stdout",
          "text": [
            "=== Tabel produk ===\n",
            "(123, 'Apel', 200, 0.2, 3.5)\n",
            "(135, 'Stroberi', 120, 0.04, 2.0)\n",
            "(321, 'Wortel', 30, 0.1, 1.8)\n",
            "(456, 'Jeruk Nipis', 15, 0.15, 2.1)\n",
            "(987, 'Brokoli', 70, 0.05, 1.5)\n",
            "=== Tabel pesanan ===\n",
            "(1, '2023-11-05', '14:38.27', 123, 10, 0)\n",
            "(2, '2023-11-16', '10:02:03', 456, 5, 0)\n",
            "(3, '2023-11-17', '23:59:58', 987, 15, 0)\n",
            "(4, '2023-11-16', '00:09:32', 456, 20, 0)\n",
            "(5, '2023-11-15', '12:29:17', 135, 5, 0)\n",
            "(6, '2023-11-17', '15:42:19', 321, 10, 0)\n"
          ]
        }
      ]
    },
    {
      "cell_type": "code",
      "source": [
        "conn = sqlite3.connect(\"pasar.sqlite3\")\n",
        "cur = conn.cursor()\n",
        "\n",
        "cur.execute(\"\"\"SELECT *\n",
        "            FROM tabel_pesanan INNER JOIN tabel_produk\n",
        "            ON tabel_pesanan.kode_produk == tabel_produk.product_id\n",
        "            \"\"\")\n",
        "semua_baris = cur.fetchall()\n",
        "for baris in semua_baris:\n",
        "    print(baris)\n",
        "\n",
        "conn.close()"
      ],
      "metadata": {
        "colab": {
          "base_uri": "https://localhost:8080/"
        },
        "id": "9QPqep_luVgi",
        "outputId": "a2500c8a-6354-4e0e-e60b-86fad5211ec3"
      },
      "execution_count": null,
      "outputs": [
        {
          "output_type": "stream",
          "name": "stdout",
          "text": [
            "(1, '2023-11-05', '14:38.27', 123, 10, 0, 123, 'Apel', 200, 0.2, 3.5)\n",
            "(2, '2023-11-16', '10:02:03', 456, 5, 0, 456, 'Jeruk Nipis', 15, 0.15, 2.1)\n",
            "(3, '2023-11-17', '23:59:58', 987, 15, 0, 987, 'Brokoli', 70, 0.05, 1.5)\n",
            "(4, '2023-11-16', '00:09:32', 456, 20, 0, 456, 'Jeruk Nipis', 15, 0.15, 2.1)\n",
            "(5, '2023-11-15', '12:29:17', 135, 5, 0, 135, 'Stroberi', 120, 0.04, 2.0)\n",
            "(6, '2023-11-17', '15:42:19', 321, 10, 0, 321, 'Wortel', 30, 0.1, 1.8)\n"
          ]
        }
      ]
    },
    {
      "cell_type": "code",
      "source": [
        "conn = sqlite3.connect(\"pasar.sqlite3\")\n",
        "cur = conn.cursor()\n",
        "\n",
        "cur.execute(\"\"\"SELECT *\n",
        "            FROM tabel_pesanan INNER JOIN tabel_produk\n",
        "            ON tabel_produk.product_id == tabel_pesanan.kode_produk\n",
        "            \"\"\")\n",
        "semua_baris = cur.fetchall()\n",
        "for baris in semua_baris:\n",
        "    print(baris)\n",
        "\n",
        "conn.close()"
      ],
      "metadata": {
        "colab": {
          "base_uri": "https://localhost:8080/"
        },
        "id": "p97kb_Bquz3o",
        "outputId": "f2049879-3e3f-4840-870a-36ae3ecc5a13"
      },
      "execution_count": null,
      "outputs": [
        {
          "output_type": "stream",
          "name": "stdout",
          "text": [
            "(1, '2023-11-05', '14:38.27', 123, 10, 0, 123, 'Apel', 200, 0.2, 3.5)\n",
            "(2, '2023-11-16', '10:02:03', 456, 5, 0, 456, 'Jeruk Nipis', 15, 0.15, 2.1)\n",
            "(3, '2023-11-17', '23:59:58', 987, 15, 0, 987, 'Brokoli', 70, 0.05, 1.5)\n",
            "(4, '2023-11-16', '00:09:32', 456, 20, 0, 456, 'Jeruk Nipis', 15, 0.15, 2.1)\n",
            "(5, '2023-11-15', '12:29:17', 135, 5, 0, 135, 'Stroberi', 120, 0.04, 2.0)\n",
            "(6, '2023-11-17', '15:42:19', 321, 10, 0, 321, 'Wortel', 30, 0.1, 1.8)\n"
          ]
        }
      ]
    }
  ]
}